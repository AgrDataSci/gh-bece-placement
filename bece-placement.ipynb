{
 "cells": [
  {
   "attachments": {},
   "cell_type": "markdown",
   "metadata": {},
   "source": [
    "## Data Access\n",
    "\n",
    "The data file is encrypted and hence ought to be decrypted to access the content. This means, one will need a decryption key which can be supplied to the `read_encrypted()` function. Though, you can paste the key into the code (as in Case 1), avoid this and enter the key via the `getpass()` function (as in Case 2). Note that, when entring the key via `getpass()`, the content of what you are typing will be masked or not seen at all. The simplest way is to copy and paste the key when prompted and then hit the enter key.\n",
    "\n",
    "> When you have been able to access the data, please do not save it to file. Also, remember not to share the data or the key with anyone."
   ]
  },
  {
   "cell_type": "code",
   "execution_count": null,
   "metadata": {},
   "outputs": [],
   "source": [
    "import utils.read_encrypted as ure\n",
    "import getpass"
   ]
  },
  {
   "attachments": {},
   "cell_type": "markdown",
   "metadata": {},
   "source": [
    "### Case 1"
   ]
  },
  {
   "cell_type": "code",
   "execution_count": null,
   "metadata": {},
   "outputs": [],
   "source": [
    "# df = ure.read_encrypted(\"data/bece-encrypted.zip\", b'paste-key-here')"
   ]
  },
  {
   "attachments": {},
   "cell_type": "markdown",
   "metadata": {},
   "source": [
    "### Case 2"
   ]
  },
  {
   "cell_type": "code",
   "execution_count": null,
   "metadata": {},
   "outputs": [],
   "source": [
    "df = ure.read_encrypted(\n",
    "    \"data/bece-encrypted.zip\", \n",
    "    bytes(getpass.getpass(\"Enter key: \"), \"utf-8\")\n",
    ")"
   ]
  },
  {
   "cell_type": "code",
   "execution_count": null,
   "metadata": {},
   "outputs": [],
   "source": [
    "df.shape"
   ]
  }
 ],
 "metadata": {
  "kernelspec": {
   "display_name": "Python 3",
   "language": "python",
   "name": "python3"
  },
  "language_info": {
   "name": "python",
   "version": "3.10.5"
  },
  "orig_nbformat": 4,
  "vscode": {
   "interpreter": {
    "hash": "1e89775cc5210d2a7dbaca61e33ecb5d42bb4c951c9264d0aa71a9f6e02d0bb6"
   }
  }
 },
 "nbformat": 4,
 "nbformat_minor": 2
}
